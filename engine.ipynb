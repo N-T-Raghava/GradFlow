{
 "cells": [
  {
   "cell_type": "code",
   "execution_count": 1,
   "id": "65059ee1",
   "metadata": {},
   "outputs": [],
   "source": [
    "import math\n",
    "import numpy as np\n",
    "import matplotlib.pyplot as plt\n",
    "from graphviz import Digraph"
   ]
  },
  {
   "cell_type": "code",
   "execution_count": 7,
   "id": "253ac745",
   "metadata": {},
   "outputs": [
    {
     "data": {
      "text/plain": [
       "Value(10.0)"
      ]
     },
     "execution_count": 7,
     "metadata": {},
     "output_type": "execute_result"
    }
   ],
   "source": [
    "class Value:\n",
    "    \n",
    "    def __init__(self, data, _children = (), _op = '', mark = ''):\n",
    "        self.data = data\n",
    "        self.grad = 0.0\n",
    "        self.kids = _children\n",
    "        self.actn = _op\n",
    "        self.mark = mark\n",
    "\n",
    "    def __repr__(self):\n",
    "        return f\"Value({self.data})\"\n",
    "    \n",
    "    def __add__(self, other):\n",
    "        return Value(self.data + other.data, ( self, other ), '+')\n",
    "\n",
    "    def __sub__(self, other):\n",
    "        return Value(self.data - other.data, ( self, other ), '-')\n",
    "\n",
    "    def __mul__(self, other):\n",
    "        return Value(self.data * other.data, ( self, other ), '*')\n",
    "\n",
    "a = Value(2.0, mark = 'a')\n",
    "b = Value(3.0, mark = 'b')\n",
    "c = Value(4.0, mark = 'c')\n",
    "d = a*b + c\n",
    "d"
   ]
  },
  {
   "cell_type": "code",
   "execution_count": null,
   "id": "671666d0",
   "metadata": {},
   "outputs": [],
   "source": []
  }
 ],
 "metadata": {
  "kernelspec": {
   "display_name": "Python 3",
   "language": "python",
   "name": "python3"
  },
  "language_info": {
   "codemirror_mode": {
    "name": "ipython",
    "version": 3
   },
   "file_extension": ".py",
   "mimetype": "text/x-python",
   "name": "python",
   "nbconvert_exporter": "python",
   "pygments_lexer": "ipython3",
   "version": "3.13.0"
  }
 },
 "nbformat": 4,
 "nbformat_minor": 5
}
